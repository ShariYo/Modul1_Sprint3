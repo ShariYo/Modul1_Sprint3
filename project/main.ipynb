{
 "cells": [
  {
   "cell_type": "markdown",
   "metadata": {},
   "source": [
    "# Coursera data analysis project"
   ]
  },
  {
   "cell_type": "markdown",
   "metadata": {},
   "source": [
    "## Dataset import"
   ]
  },
  {
   "cell_type": "markdown",
   "metadata": {},
   "source": [
    "Cell is used for reading given dataset and check first view of raw dataframe"
   ]
  },
  {
   "cell_type": "code",
   "execution_count": 1,
   "metadata": {},
   "outputs": [
    {
     "data": {
      "text/html": [
       "<div>\n",
       "<style scoped>\n",
       "    .dataframe tbody tr th:only-of-type {\n",
       "        vertical-align: middle;\n",
       "    }\n",
       "\n",
       "    .dataframe tbody tr th {\n",
       "        vertical-align: top;\n",
       "    }\n",
       "\n",
       "    .dataframe thead th {\n",
       "        text-align: right;\n",
       "    }\n",
       "</style>\n",
       "<table border=\"1\" class=\"dataframe\">\n",
       "  <thead>\n",
       "    <tr style=\"text-align: right;\">\n",
       "      <th></th>\n",
       "      <th>course_title</th>\n",
       "      <th>course_organization</th>\n",
       "      <th>course_Certificate_type</th>\n",
       "      <th>course_rating</th>\n",
       "      <th>course_difficulty</th>\n",
       "      <th>course_students_enrolled</th>\n",
       "    </tr>\n",
       "  </thead>\n",
       "  <tbody>\n",
       "    <tr>\n",
       "      <th>134</th>\n",
       "      <td>(ISC)² Systems Security Certified Practitioner...</td>\n",
       "      <td>(ISC)²</td>\n",
       "      <td>SPECIALIZATION</td>\n",
       "      <td>4.7</td>\n",
       "      <td>Beginner</td>\n",
       "      <td>5.3k</td>\n",
       "    </tr>\n",
       "    <tr>\n",
       "      <th>743</th>\n",
       "      <td>A Crash Course in Causality:  Inferring Causal...</td>\n",
       "      <td>University of Pennsylvania</td>\n",
       "      <td>COURSE</td>\n",
       "      <td>4.7</td>\n",
       "      <td>Intermediate</td>\n",
       "      <td>17k</td>\n",
       "    </tr>\n",
       "    <tr>\n",
       "      <th>874</th>\n",
       "      <td>A Crash Course in Data Science</td>\n",
       "      <td>Johns Hopkins University</td>\n",
       "      <td>COURSE</td>\n",
       "      <td>4.5</td>\n",
       "      <td>Mixed</td>\n",
       "      <td>130k</td>\n",
       "    </tr>\n",
       "    <tr>\n",
       "      <th>413</th>\n",
       "      <td>A Law Student's Toolkit</td>\n",
       "      <td>Yale University</td>\n",
       "      <td>COURSE</td>\n",
       "      <td>4.7</td>\n",
       "      <td>Mixed</td>\n",
       "      <td>91k</td>\n",
       "    </tr>\n",
       "    <tr>\n",
       "      <th>635</th>\n",
       "      <td>A Life of Happiness and Fulfillment</td>\n",
       "      <td>Indian School of Business</td>\n",
       "      <td>COURSE</td>\n",
       "      <td>4.8</td>\n",
       "      <td>Mixed</td>\n",
       "      <td>320k</td>\n",
       "    </tr>\n",
       "    <tr>\n",
       "      <th>661</th>\n",
       "      <td>ADHD: Everyday Strategies for Elementary Students</td>\n",
       "      <td>University at Buffalo</td>\n",
       "      <td>COURSE</td>\n",
       "      <td>4.7</td>\n",
       "      <td>Beginner</td>\n",
       "      <td>39k</td>\n",
       "    </tr>\n",
       "    <tr>\n",
       "      <th>54</th>\n",
       "      <td>AI For Everyone</td>\n",
       "      <td>deeplearning.ai</td>\n",
       "      <td>COURSE</td>\n",
       "      <td>4.8</td>\n",
       "      <td>Beginner</td>\n",
       "      <td>350k</td>\n",
       "    </tr>\n",
       "    <tr>\n",
       "      <th>488</th>\n",
       "      <td>AI For Medical Treatment</td>\n",
       "      <td>deeplearning.ai</td>\n",
       "      <td>COURSE</td>\n",
       "      <td>4.8</td>\n",
       "      <td>Intermediate</td>\n",
       "      <td>2.4k</td>\n",
       "    </tr>\n",
       "    <tr>\n",
       "      <th>58</th>\n",
       "      <td>AI Foundations for Everyone</td>\n",
       "      <td>IBM</td>\n",
       "      <td>SPECIALIZATION</td>\n",
       "      <td>4.7</td>\n",
       "      <td>Beginner</td>\n",
       "      <td>61k</td>\n",
       "    </tr>\n",
       "    <tr>\n",
       "      <th>129</th>\n",
       "      <td>AI for Medical Diagnosis</td>\n",
       "      <td>deeplearning.ai</td>\n",
       "      <td>COURSE</td>\n",
       "      <td>4.7</td>\n",
       "      <td>Intermediate</td>\n",
       "      <td>12k</td>\n",
       "    </tr>\n",
       "  </tbody>\n",
       "</table>\n",
       "</div>"
      ],
      "text/plain": [
       "                                          course_title  \\\n",
       "134  (ISC)² Systems Security Certified Practitioner...   \n",
       "743  A Crash Course in Causality:  Inferring Causal...   \n",
       "874                     A Crash Course in Data Science   \n",
       "413                            A Law Student's Toolkit   \n",
       "635                A Life of Happiness and Fulfillment   \n",
       "661  ADHD: Everyday Strategies for Elementary Students   \n",
       "54                                     AI For Everyone   \n",
       "488                           AI For Medical Treatment   \n",
       "58                         AI Foundations for Everyone   \n",
       "129                           AI for Medical Diagnosis   \n",
       "\n",
       "            course_organization course_Certificate_type  course_rating  \\\n",
       "134                      (ISC)²          SPECIALIZATION            4.7   \n",
       "743  University of Pennsylvania                  COURSE            4.7   \n",
       "874    Johns Hopkins University                  COURSE            4.5   \n",
       "413             Yale University                  COURSE            4.7   \n",
       "635   Indian School of Business                  COURSE            4.8   \n",
       "661       University at Buffalo                  COURSE            4.7   \n",
       "54              deeplearning.ai                  COURSE            4.8   \n",
       "488             deeplearning.ai                  COURSE            4.8   \n",
       "58                          IBM          SPECIALIZATION            4.7   \n",
       "129             deeplearning.ai                  COURSE            4.7   \n",
       "\n",
       "    course_difficulty course_students_enrolled  \n",
       "134          Beginner                     5.3k  \n",
       "743      Intermediate                      17k  \n",
       "874             Mixed                     130k  \n",
       "413             Mixed                      91k  \n",
       "635             Mixed                     320k  \n",
       "661          Beginner                      39k  \n",
       "54           Beginner                     350k  \n",
       "488      Intermediate                     2.4k  \n",
       "58           Beginner                      61k  \n",
       "129      Intermediate                      12k  "
      ]
     },
     "execution_count": 1,
     "metadata": {},
     "output_type": "execute_result"
    }
   ],
   "source": [
    "import pandas as pd\n",
    "import numpy as np\n",
    "import matplotlib.pyplot as plt \n",
    "import seaborn as sns \n",
    "\n",
    "\n",
    "file = r'D:\\IT_projects\\Turing_Colledge\\Modul1\\Sprint3\\project\\coursea_data.csv'\n",
    "raw_df = pd.read_csv(file, index_col=0)\n",
    "raw_df.head(10)"
   ]
  },
  {
   "cell_type": "markdown",
   "metadata": {},
   "source": [
    "## Data inspection"
   ]
  },
  {
   "cell_type": "markdown",
   "metadata": {},
   "source": [
    "Check last 10 rows of the given data for any faults/malfunctions  \n",
    "First 10 rows have already been checked in first cell"
   ]
  },
  {
   "cell_type": "code",
   "execution_count": 2,
   "metadata": {},
   "outputs": [
    {
     "data": {
      "text/html": [
       "<div>\n",
       "<style scoped>\n",
       "    .dataframe tbody tr th:only-of-type {\n",
       "        vertical-align: middle;\n",
       "    }\n",
       "\n",
       "    .dataframe tbody tr th {\n",
       "        vertical-align: top;\n",
       "    }\n",
       "\n",
       "    .dataframe thead th {\n",
       "        text-align: right;\n",
       "    }\n",
       "</style>\n",
       "<table border=\"1\" class=\"dataframe\">\n",
       "  <thead>\n",
       "    <tr style=\"text-align: right;\">\n",
       "      <th></th>\n",
       "      <th>course_title</th>\n",
       "      <th>course_organization</th>\n",
       "      <th>course_Certificate_type</th>\n",
       "      <th>course_rating</th>\n",
       "      <th>course_difficulty</th>\n",
       "      <th>course_students_enrolled</th>\n",
       "    </tr>\n",
       "  </thead>\n",
       "  <tbody>\n",
       "    <tr>\n",
       "      <th>132</th>\n",
       "      <td>Машинное обучение и анализ данных</td>\n",
       "      <td>E-Learning Development Fund</td>\n",
       "      <td>SPECIALIZATION</td>\n",
       "      <td>4.7</td>\n",
       "      <td>Intermediate</td>\n",
       "      <td>77k</td>\n",
       "    </tr>\n",
       "    <tr>\n",
       "      <th>405</th>\n",
       "      <td>Основы Digital Маркетинга</td>\n",
       "      <td>National Research University Higher School of ...</td>\n",
       "      <td>SPECIALIZATION</td>\n",
       "      <td>4.5</td>\n",
       "      <td>Intermediate</td>\n",
       "      <td>19k</td>\n",
       "    </tr>\n",
       "    <tr>\n",
       "      <th>703</th>\n",
       "      <td>Основы программирования на Python</td>\n",
       "      <td>National Research University Higher School of ...</td>\n",
       "      <td>COURSE</td>\n",
       "      <td>4.6</td>\n",
       "      <td>Beginner</td>\n",
       "      <td>83k</td>\n",
       "    </tr>\n",
       "    <tr>\n",
       "      <th>841</th>\n",
       "      <td>Основы разработки на C++: белый пояс</td>\n",
       "      <td>E-Learning Development Fund</td>\n",
       "      <td>COURSE</td>\n",
       "      <td>4.9</td>\n",
       "      <td>Intermediate</td>\n",
       "      <td>41k</td>\n",
       "    </tr>\n",
       "    <tr>\n",
       "      <th>889</th>\n",
       "      <td>Погружение в Python</td>\n",
       "      <td>Moscow Institute of Physics and Technology</td>\n",
       "      <td>COURSE</td>\n",
       "      <td>4.7</td>\n",
       "      <td>Intermediate</td>\n",
       "      <td>45k</td>\n",
       "    </tr>\n",
       "    <tr>\n",
       "      <th>236</th>\n",
       "      <td>Программирование на Python</td>\n",
       "      <td>Mail.Ru Group</td>\n",
       "      <td>SPECIALIZATION</td>\n",
       "      <td>4.5</td>\n",
       "      <td>Intermediate</td>\n",
       "      <td>52k</td>\n",
       "    </tr>\n",
       "    <tr>\n",
       "      <th>883</th>\n",
       "      <td>Психолингвистика (Psycholinguistics)</td>\n",
       "      <td>Saint Petersburg State University</td>\n",
       "      <td>COURSE</td>\n",
       "      <td>4.8</td>\n",
       "      <td>Mixed</td>\n",
       "      <td>21k</td>\n",
       "    </tr>\n",
       "    <tr>\n",
       "      <th>545</th>\n",
       "      <td>Разработка интерфейсов: вёрстка и JavaScript</td>\n",
       "      <td>E-Learning Development Fund</td>\n",
       "      <td>SPECIALIZATION</td>\n",
       "      <td>4.5</td>\n",
       "      <td>Intermediate</td>\n",
       "      <td>30k</td>\n",
       "    </tr>\n",
       "    <tr>\n",
       "      <th>875</th>\n",
       "      <td>Русский как иностранный</td>\n",
       "      <td>Saint Petersburg State University</td>\n",
       "      <td>SPECIALIZATION</td>\n",
       "      <td>4.6</td>\n",
       "      <td>Intermediate</td>\n",
       "      <td>9.8k</td>\n",
       "    </tr>\n",
       "    <tr>\n",
       "      <th>163</th>\n",
       "      <td>Финансовые инструменты для частного инвестора</td>\n",
       "      <td>National Research University Higher School of ...</td>\n",
       "      <td>SPECIALIZATION</td>\n",
       "      <td>4.7</td>\n",
       "      <td>Beginner</td>\n",
       "      <td>38k</td>\n",
       "    </tr>\n",
       "  </tbody>\n",
       "</table>\n",
       "</div>"
      ],
      "text/plain": [
       "                                      course_title  \\\n",
       "132              Машинное обучение и анализ данных   \n",
       "405                      Основы Digital Маркетинга   \n",
       "703              Основы программирования на Python   \n",
       "841           Основы разработки на C++: белый пояс   \n",
       "889                            Погружение в Python   \n",
       "236                     Программирование на Python   \n",
       "883           Психолингвистика (Psycholinguistics)   \n",
       "545   Разработка интерфейсов: вёрстка и JavaScript   \n",
       "875                        Русский как иностранный   \n",
       "163  Финансовые инструменты для частного инвестора   \n",
       "\n",
       "                                   course_organization  \\\n",
       "132                        E-Learning Development Fund   \n",
       "405  National Research University Higher School of ...   \n",
       "703  National Research University Higher School of ...   \n",
       "841                        E-Learning Development Fund   \n",
       "889         Moscow Institute of Physics and Technology   \n",
       "236                                      Mail.Ru Group   \n",
       "883                  Saint Petersburg State University   \n",
       "545                        E-Learning Development Fund   \n",
       "875                  Saint Petersburg State University   \n",
       "163  National Research University Higher School of ...   \n",
       "\n",
       "    course_Certificate_type  course_rating course_difficulty  \\\n",
       "132          SPECIALIZATION            4.7      Intermediate   \n",
       "405          SPECIALIZATION            4.5      Intermediate   \n",
       "703                  COURSE            4.6          Beginner   \n",
       "841                  COURSE            4.9      Intermediate   \n",
       "889                  COURSE            4.7      Intermediate   \n",
       "236          SPECIALIZATION            4.5      Intermediate   \n",
       "883                  COURSE            4.8             Mixed   \n",
       "545          SPECIALIZATION            4.5      Intermediate   \n",
       "875          SPECIALIZATION            4.6      Intermediate   \n",
       "163          SPECIALIZATION            4.7          Beginner   \n",
       "\n",
       "    course_students_enrolled  \n",
       "132                      77k  \n",
       "405                      19k  \n",
       "703                      83k  \n",
       "841                      41k  \n",
       "889                      45k  \n",
       "236                      52k  \n",
       "883                      21k  \n",
       "545                      30k  \n",
       "875                     9.8k  \n",
       "163                      38k  "
      ]
     },
     "execution_count": 2,
     "metadata": {},
     "output_type": "execute_result"
    }
   ],
   "source": [
    "raw_df.tail(10)"
   ]
  },
  {
   "cell_type": "markdown",
   "metadata": {},
   "source": [
    "It can be seen that not english type letters are used  \n",
    "at \"course_title\" along with english type letters."
   ]
  },
  {
   "cell_type": "code",
   "execution_count": 3,
   "metadata": {},
   "outputs": [
    {
     "name": "stdout",
     "output_type": "stream",
     "text": [
      "<class 'pandas.core.frame.DataFrame'>\n",
      "Index: 891 entries, 134 to 163\n",
      "Data columns (total 6 columns):\n",
      " #   Column                    Non-Null Count  Dtype  \n",
      "---  ------                    --------------  -----  \n",
      " 0   course_title              891 non-null    object \n",
      " 1   course_organization       891 non-null    object \n",
      " 2   course_Certificate_type   891 non-null    object \n",
      " 3   course_rating             891 non-null    float64\n",
      " 4   course_difficulty         891 non-null    object \n",
      " 5   course_students_enrolled  891 non-null    object \n",
      "dtypes: float64(1), object(5)\n",
      "memory usage: 48.7+ KB\n"
     ]
    }
   ],
   "source": [
    "raw_df.info()"
   ]
  },
  {
   "cell_type": "markdown",
   "metadata": {},
   "source": [
    "Some information/observation can be extracted at this moment:  \n",
    "- In total there are 891 observations and 6 features;  \n",
    "- In course_title there are more than one language text;  \n",
    "- Dataframe is sorted by course_title ascending;  \n",
    "- Last column should be converted to INT;  \n",
    "- At the beggining of dataset import, prediction has been taken that first  \n",
    "column might be index. It needs to be proved."
   ]
  },
  {
   "cell_type": "markdown",
   "metadata": {},
   "source": [
    "Prediction of index numbers at the cell bellow"
   ]
  },
  {
   "cell_type": "code",
   "execution_count": 4,
   "metadata": {},
   "outputs": [
    {
     "name": "stdout",
     "output_type": "stream",
     "text": [
      "Index([134, 743, 874, 413, 635, 661,  54, 488,  58, 129,\n",
      "       ...\n",
      "       132, 405, 703, 841, 889, 236, 883, 545, 875, 163],\n",
      "      dtype='int64', length=891)\n",
      "Is there any duplicates?: False\n",
      "Min number: 0\n",
      "Max number: 890\n"
     ]
    }
   ],
   "source": [
    "print(raw_df.index)\n",
    "print(f'Is there any duplicates?: {raw_df.index.duplicated().any()}')\n",
    "print(f'Min number: {min(raw_df.index)}\\nMax number: {max(raw_df.index)}')"
   ]
  },
  {
   "cell_type": "markdown",
   "metadata": {},
   "source": [
    "Results above proves that first columns numbers are  \n",
    "indexes because there are 891 numbers with no duplicates  \n",
    "and it starts from 0 to 890"
   ]
  },
  {
   "cell_type": "code",
   "execution_count": 5,
   "metadata": {},
   "outputs": [
    {
     "data": {
      "text/html": [
       "<div>\n",
       "<style scoped>\n",
       "    .dataframe tbody tr th:only-of-type {\n",
       "        vertical-align: middle;\n",
       "    }\n",
       "\n",
       "    .dataframe tbody tr th {\n",
       "        vertical-align: top;\n",
       "    }\n",
       "\n",
       "    .dataframe thead th {\n",
       "        text-align: right;\n",
       "    }\n",
       "</style>\n",
       "<table border=\"1\" class=\"dataframe\">\n",
       "  <thead>\n",
       "    <tr style=\"text-align: right;\">\n",
       "      <th></th>\n",
       "      <th>course_title</th>\n",
       "      <th>course_organization</th>\n",
       "      <th>course_Certificate_type</th>\n",
       "      <th>course_rating</th>\n",
       "      <th>course_difficulty</th>\n",
       "      <th>course_students_enrolled</th>\n",
       "    </tr>\n",
       "  </thead>\n",
       "  <tbody>\n",
       "    <tr>\n",
       "      <th>0</th>\n",
       "      <td>IBM Data Science</td>\n",
       "      <td>IBM</td>\n",
       "      <td>PROFESSIONAL CERTIFICATE</td>\n",
       "      <td>4.6</td>\n",
       "      <td>Beginner</td>\n",
       "      <td>480k</td>\n",
       "    </tr>\n",
       "    <tr>\n",
       "      <th>1</th>\n",
       "      <td>Introduction to Data Science</td>\n",
       "      <td>IBM</td>\n",
       "      <td>SPECIALIZATION</td>\n",
       "      <td>4.6</td>\n",
       "      <td>Beginner</td>\n",
       "      <td>310k</td>\n",
       "    </tr>\n",
       "    <tr>\n",
       "      <th>2</th>\n",
       "      <td>The Science of Well-Being</td>\n",
       "      <td>Yale University</td>\n",
       "      <td>COURSE</td>\n",
       "      <td>4.9</td>\n",
       "      <td>Mixed</td>\n",
       "      <td>2.5m</td>\n",
       "    </tr>\n",
       "    <tr>\n",
       "      <th>3</th>\n",
       "      <td>Python for Everybody</td>\n",
       "      <td>University of Michigan</td>\n",
       "      <td>SPECIALIZATION</td>\n",
       "      <td>4.8</td>\n",
       "      <td>Beginner</td>\n",
       "      <td>1.5m</td>\n",
       "    </tr>\n",
       "    <tr>\n",
       "      <th>4</th>\n",
       "      <td>Google IT Support</td>\n",
       "      <td>Google</td>\n",
       "      <td>PROFESSIONAL CERTIFICATE</td>\n",
       "      <td>4.8</td>\n",
       "      <td>Beginner</td>\n",
       "      <td>350k</td>\n",
       "    </tr>\n",
       "    <tr>\n",
       "      <th>...</th>\n",
       "      <td>...</td>\n",
       "      <td>...</td>\n",
       "      <td>...</td>\n",
       "      <td>...</td>\n",
       "      <td>...</td>\n",
       "      <td>...</td>\n",
       "    </tr>\n",
       "    <tr>\n",
       "      <th>886</th>\n",
       "      <td>Understanding Modern Finance</td>\n",
       "      <td>American Institute of Business and Economics</td>\n",
       "      <td>SPECIALIZATION</td>\n",
       "      <td>4.4</td>\n",
       "      <td>Intermediate</td>\n",
       "      <td>11k</td>\n",
       "    </tr>\n",
       "    <tr>\n",
       "      <th>887</th>\n",
       "      <td>Object-Oriented Design</td>\n",
       "      <td>University of Alberta</td>\n",
       "      <td>COURSE</td>\n",
       "      <td>4.7</td>\n",
       "      <td>Intermediate</td>\n",
       "      <td>33k</td>\n",
       "    </tr>\n",
       "    <tr>\n",
       "      <th>888</th>\n",
       "      <td>Aprende a programar con Python</td>\n",
       "      <td>Universidad Austral</td>\n",
       "      <td>SPECIALIZATION</td>\n",
       "      <td>4.2</td>\n",
       "      <td>Beginner</td>\n",
       "      <td>6.6k</td>\n",
       "    </tr>\n",
       "    <tr>\n",
       "      <th>889</th>\n",
       "      <td>Погружение в Python</td>\n",
       "      <td>Moscow Institute of Physics and Technology</td>\n",
       "      <td>COURSE</td>\n",
       "      <td>4.7</td>\n",
       "      <td>Intermediate</td>\n",
       "      <td>45k</td>\n",
       "    </tr>\n",
       "    <tr>\n",
       "      <th>890</th>\n",
       "      <td>Compassionate Leadership Through Service Learn...</td>\n",
       "      <td>University of Colorado Boulder</td>\n",
       "      <td>COURSE</td>\n",
       "      <td>4.9</td>\n",
       "      <td>Beginner</td>\n",
       "      <td>6.4k</td>\n",
       "    </tr>\n",
       "  </tbody>\n",
       "</table>\n",
       "<p>891 rows × 6 columns</p>\n",
       "</div>"
      ],
      "text/plain": [
       "                                          course_title  \\\n",
       "0                                     IBM Data Science   \n",
       "1                         Introduction to Data Science   \n",
       "2                            The Science of Well-Being   \n",
       "3                                 Python for Everybody   \n",
       "4                                    Google IT Support   \n",
       "..                                                 ...   \n",
       "886                       Understanding Modern Finance   \n",
       "887                             Object-Oriented Design   \n",
       "888                     Aprende a programar con Python   \n",
       "889                                Погружение в Python   \n",
       "890  Compassionate Leadership Through Service Learn...   \n",
       "\n",
       "                              course_organization   course_Certificate_type  \\\n",
       "0                                             IBM  PROFESSIONAL CERTIFICATE   \n",
       "1                                             IBM            SPECIALIZATION   \n",
       "2                                 Yale University                    COURSE   \n",
       "3                          University of Michigan            SPECIALIZATION   \n",
       "4                                          Google  PROFESSIONAL CERTIFICATE   \n",
       "..                                            ...                       ...   \n",
       "886  American Institute of Business and Economics            SPECIALIZATION   \n",
       "887                         University of Alberta                    COURSE   \n",
       "888                           Universidad Austral            SPECIALIZATION   \n",
       "889    Moscow Institute of Physics and Technology                    COURSE   \n",
       "890                University of Colorado Boulder                    COURSE   \n",
       "\n",
       "     course_rating course_difficulty course_students_enrolled  \n",
       "0              4.6          Beginner                     480k  \n",
       "1              4.6          Beginner                     310k  \n",
       "2              4.9             Mixed                     2.5m  \n",
       "3              4.8          Beginner                     1.5m  \n",
       "4              4.8          Beginner                     350k  \n",
       "..             ...               ...                      ...  \n",
       "886            4.4      Intermediate                      11k  \n",
       "887            4.7      Intermediate                      33k  \n",
       "888            4.2          Beginner                     6.6k  \n",
       "889            4.7      Intermediate                      45k  \n",
       "890            4.9          Beginner                     6.4k  \n",
       "\n",
       "[891 rows x 6 columns]"
      ]
     },
     "execution_count": 5,
     "metadata": {},
     "output_type": "execute_result"
    }
   ],
   "source": [
    "raw_df = raw_df.sort_index(ascending=True)\n",
    "raw_df"
   ]
  },
  {
   "cell_type": "markdown",
   "metadata": {},
   "source": [
    "Dataframe was sorted by index in ascending order"
   ]
  },
  {
   "cell_type": "markdown",
   "metadata": {},
   "source": [
    "In the script below we get amount of unique values of each column"
   ]
  },
  {
   "cell_type": "code",
   "execution_count": 6,
   "metadata": {},
   "outputs": [
    {
     "name": "stdout",
     "output_type": "stream",
     "text": [
      "There are 888 unique values of course_title\n",
      "There are 154 unique values of course_organization\n",
      "There are 3 unique values of course_Certificate_type\n",
      "There are 14 unique values of course_rating\n",
      "There are 4 unique values of course_difficulty\n",
      "There are 205 unique values of course_students_enrolled\n"
     ]
    }
   ],
   "source": [
    "columns = raw_df.columns.unique()\n",
    "num = [(len(raw_df[col].unique()), col) for col in columns]\n",
    "for c in num:\n",
    "    print(f'There are {c[0]} unique values of {c[1]}')"
   ]
  },
  {
   "cell_type": "markdown",
   "metadata": {},
   "source": [
    "## Data Cleaning"
   ]
  },
  {
   "cell_type": "markdown",
   "metadata": {},
   "source": [
    "Checking for anomalies"
   ]
  },
  {
   "cell_type": "code",
   "execution_count": 7,
   "metadata": {},
   "outputs": [
    {
     "name": "stdout",
     "output_type": "stream",
     "text": [
      "Is there any duplicates in dataframe?: False\n",
      "Is there any NaN values in dataframe?: False\n",
      "Is there any empty cells in dataframe?: False\n"
     ]
    }
   ],
   "source": [
    "raw_df.columns = raw_df.columns.str.strip()\n",
    "raw_df_duplicates = raw_df.duplicated().any()\n",
    "raw_df_nan = raw_df.isna().any().any()\n",
    "raw_df_emptycells = (raw_df == \"\").any().any()\n",
    "\n",
    "print(f'Is there any duplicates in dataframe?: {raw_df_duplicates}')\n",
    "print(f'Is there any NaN values in dataframe?: {raw_df_nan}')\n",
    "print(f'Is there any empty cells in dataframe?: {raw_df_emptycells}')\n"
   ]
  },
  {
   "cell_type": "markdown",
   "metadata": {},
   "source": [
    "Dataset has no duplicates, NaN values or empty cells"
   ]
  },
  {
   "cell_type": "markdown",
   "metadata": {},
   "source": [
    "Converting \"course_students_enrolled\" to INT numbers"
   ]
  },
  {
   "cell_type": "code",
   "execution_count": 8,
   "metadata": {},
   "outputs": [
    {
     "data": {
      "text/html": [
       "<div>\n",
       "<style scoped>\n",
       "    .dataframe tbody tr th:only-of-type {\n",
       "        vertical-align: middle;\n",
       "    }\n",
       "\n",
       "    .dataframe tbody tr th {\n",
       "        vertical-align: top;\n",
       "    }\n",
       "\n",
       "    .dataframe thead th {\n",
       "        text-align: right;\n",
       "    }\n",
       "</style>\n",
       "<table border=\"1\" class=\"dataframe\">\n",
       "  <thead>\n",
       "    <tr style=\"text-align: right;\">\n",
       "      <th></th>\n",
       "      <th>course_title</th>\n",
       "      <th>course_organization</th>\n",
       "      <th>course_Certificate_type</th>\n",
       "      <th>course_rating</th>\n",
       "      <th>course_difficulty</th>\n",
       "      <th>course_students_enrolled</th>\n",
       "    </tr>\n",
       "  </thead>\n",
       "  <tbody>\n",
       "    <tr>\n",
       "      <th>0</th>\n",
       "      <td>IBM Data Science</td>\n",
       "      <td>IBM</td>\n",
       "      <td>PROFESSIONAL CERTIFICATE</td>\n",
       "      <td>4.6</td>\n",
       "      <td>Beginner</td>\n",
       "      <td>480000</td>\n",
       "    </tr>\n",
       "    <tr>\n",
       "      <th>1</th>\n",
       "      <td>Introduction to Data Science</td>\n",
       "      <td>IBM</td>\n",
       "      <td>SPECIALIZATION</td>\n",
       "      <td>4.6</td>\n",
       "      <td>Beginner</td>\n",
       "      <td>310000</td>\n",
       "    </tr>\n",
       "    <tr>\n",
       "      <th>2</th>\n",
       "      <td>The Science of Well-Being</td>\n",
       "      <td>Yale University</td>\n",
       "      <td>COURSE</td>\n",
       "      <td>4.9</td>\n",
       "      <td>Mixed</td>\n",
       "      <td>2500000</td>\n",
       "    </tr>\n",
       "    <tr>\n",
       "      <th>3</th>\n",
       "      <td>Python for Everybody</td>\n",
       "      <td>University of Michigan</td>\n",
       "      <td>SPECIALIZATION</td>\n",
       "      <td>4.8</td>\n",
       "      <td>Beginner</td>\n",
       "      <td>1500000</td>\n",
       "    </tr>\n",
       "    <tr>\n",
       "      <th>4</th>\n",
       "      <td>Google IT Support</td>\n",
       "      <td>Google</td>\n",
       "      <td>PROFESSIONAL CERTIFICATE</td>\n",
       "      <td>4.8</td>\n",
       "      <td>Beginner</td>\n",
       "      <td>350000</td>\n",
       "    </tr>\n",
       "    <tr>\n",
       "      <th>...</th>\n",
       "      <td>...</td>\n",
       "      <td>...</td>\n",
       "      <td>...</td>\n",
       "      <td>...</td>\n",
       "      <td>...</td>\n",
       "      <td>...</td>\n",
       "    </tr>\n",
       "    <tr>\n",
       "      <th>886</th>\n",
       "      <td>Understanding Modern Finance</td>\n",
       "      <td>American Institute of Business and Economics</td>\n",
       "      <td>SPECIALIZATION</td>\n",
       "      <td>4.4</td>\n",
       "      <td>Intermediate</td>\n",
       "      <td>11000</td>\n",
       "    </tr>\n",
       "    <tr>\n",
       "      <th>887</th>\n",
       "      <td>Object-Oriented Design</td>\n",
       "      <td>University of Alberta</td>\n",
       "      <td>COURSE</td>\n",
       "      <td>4.7</td>\n",
       "      <td>Intermediate</td>\n",
       "      <td>33000</td>\n",
       "    </tr>\n",
       "    <tr>\n",
       "      <th>888</th>\n",
       "      <td>Aprende a programar con Python</td>\n",
       "      <td>Universidad Austral</td>\n",
       "      <td>SPECIALIZATION</td>\n",
       "      <td>4.2</td>\n",
       "      <td>Beginner</td>\n",
       "      <td>6600</td>\n",
       "    </tr>\n",
       "    <tr>\n",
       "      <th>889</th>\n",
       "      <td>Погружение в Python</td>\n",
       "      <td>Moscow Institute of Physics and Technology</td>\n",
       "      <td>COURSE</td>\n",
       "      <td>4.7</td>\n",
       "      <td>Intermediate</td>\n",
       "      <td>45000</td>\n",
       "    </tr>\n",
       "    <tr>\n",
       "      <th>890</th>\n",
       "      <td>Compassionate Leadership Through Service Learn...</td>\n",
       "      <td>University of Colorado Boulder</td>\n",
       "      <td>COURSE</td>\n",
       "      <td>4.9</td>\n",
       "      <td>Beginner</td>\n",
       "      <td>6400</td>\n",
       "    </tr>\n",
       "  </tbody>\n",
       "</table>\n",
       "<p>891 rows × 6 columns</p>\n",
       "</div>"
      ],
      "text/plain": [
       "                                          course_title  \\\n",
       "0                                     IBM Data Science   \n",
       "1                         Introduction to Data Science   \n",
       "2                            The Science of Well-Being   \n",
       "3                                 Python for Everybody   \n",
       "4                                    Google IT Support   \n",
       "..                                                 ...   \n",
       "886                       Understanding Modern Finance   \n",
       "887                             Object-Oriented Design   \n",
       "888                     Aprende a programar con Python   \n",
       "889                                Погружение в Python   \n",
       "890  Compassionate Leadership Through Service Learn...   \n",
       "\n",
       "                              course_organization   course_Certificate_type  \\\n",
       "0                                             IBM  PROFESSIONAL CERTIFICATE   \n",
       "1                                             IBM            SPECIALIZATION   \n",
       "2                                 Yale University                    COURSE   \n",
       "3                          University of Michigan            SPECIALIZATION   \n",
       "4                                          Google  PROFESSIONAL CERTIFICATE   \n",
       "..                                            ...                       ...   \n",
       "886  American Institute of Business and Economics            SPECIALIZATION   \n",
       "887                         University of Alberta                    COURSE   \n",
       "888                           Universidad Austral            SPECIALIZATION   \n",
       "889    Moscow Institute of Physics and Technology                    COURSE   \n",
       "890                University of Colorado Boulder                    COURSE   \n",
       "\n",
       "     course_rating course_difficulty  course_students_enrolled  \n",
       "0              4.6          Beginner                    480000  \n",
       "1              4.6          Beginner                    310000  \n",
       "2              4.9             Mixed                   2500000  \n",
       "3              4.8          Beginner                   1500000  \n",
       "4              4.8          Beginner                    350000  \n",
       "..             ...               ...                       ...  \n",
       "886            4.4      Intermediate                     11000  \n",
       "887            4.7      Intermediate                     33000  \n",
       "888            4.2          Beginner                      6600  \n",
       "889            4.7      Intermediate                     45000  \n",
       "890            4.9          Beginner                      6400  \n",
       "\n",
       "[891 rows x 6 columns]"
      ]
     },
     "execution_count": 8,
     "metadata": {},
     "output_type": "execute_result"
    }
   ],
   "source": [
    "def convert(val):\n",
    "    if val[-1] == \"k\":\n",
    "        return int(float(val[:-1]) * 1000)\n",
    "    elif val[-1] == \"m\":\n",
    "        return int(float(val[:-1]) * (10 ** 6))\n",
    "    else:\n",
    "        return int(val)\n",
    "\n",
    "raw_df['course_students_enrolled'] = raw_df['course_students_enrolled'].apply(convert)\n",
    "cleaned_df = raw_df\n",
    "cleaned_df"
   ]
  },
  {
   "cell_type": "markdown",
   "metadata": {},
   "source": [
    "To prevent possible future mistakes, all columns name  \n",
    "letters were converted to lower"
   ]
  },
  {
   "cell_type": "code",
   "execution_count": 9,
   "metadata": {},
   "outputs": [],
   "source": [
    "cleaned_df.rename(columns=lambda x: x.lower(), inplace=True)\n"
   ]
  },
  {
   "cell_type": "markdown",
   "metadata": {},
   "source": [
    "### Overall outliers for numeric type columns"
   ]
  },
  {
   "cell_type": "code",
   "execution_count": 11,
   "metadata": {},
   "outputs": [
    {
     "data": {
      "text/html": [
       "<div>\n",
       "<style scoped>\n",
       "    .dataframe tbody tr th:only-of-type {\n",
       "        vertical-align: middle;\n",
       "    }\n",
       "\n",
       "    .dataframe tbody tr th {\n",
       "        vertical-align: top;\n",
       "    }\n",
       "\n",
       "    .dataframe thead th {\n",
       "        text-align: right;\n",
       "    }\n",
       "</style>\n",
       "<table border=\"1\" class=\"dataframe\">\n",
       "  <thead>\n",
       "    <tr style=\"text-align: right;\">\n",
       "      <th></th>\n",
       "      <th>count</th>\n",
       "      <th>mean</th>\n",
       "      <th>std</th>\n",
       "      <th>min</th>\n",
       "      <th>25%</th>\n",
       "      <th>50%</th>\n",
       "      <th>75%</th>\n",
       "      <th>max</th>\n",
       "      <th>UCL</th>\n",
       "      <th>LCL</th>\n",
       "    </tr>\n",
       "  </thead>\n",
       "  <tbody>\n",
       "    <tr>\n",
       "      <th>course_rating</th>\n",
       "      <td>891.0</td>\n",
       "      <td>4.677329</td>\n",
       "      <td>0.162225</td>\n",
       "      <td>3.3</td>\n",
       "      <td>4.6</td>\n",
       "      <td>4.7</td>\n",
       "      <td>4.8</td>\n",
       "      <td>5.0</td>\n",
       "      <td>5.001779</td>\n",
       "      <td>4.352879</td>\n",
       "    </tr>\n",
       "    <tr>\n",
       "      <th>course_students_enrolled</th>\n",
       "      <td>891.0</td>\n",
       "      <td>90552.076319</td>\n",
       "      <td>181936.453852</td>\n",
       "      <td>1500.0</td>\n",
       "      <td>17500.0</td>\n",
       "      <td>42000.0</td>\n",
       "      <td>99500.0</td>\n",
       "      <td>3200000.0</td>\n",
       "      <td>454424.984022</td>\n",
       "      <td>-273320.831384</td>\n",
       "    </tr>\n",
       "  </tbody>\n",
       "</table>\n",
       "</div>"
      ],
      "text/plain": [
       "                          count          mean            std     min      25%  \\\n",
       "course_rating             891.0      4.677329       0.162225     3.3      4.6   \n",
       "course_students_enrolled  891.0  90552.076319  181936.453852  1500.0  17500.0   \n",
       "\n",
       "                              50%      75%        max            UCL  \\\n",
       "course_rating                 4.7      4.8        5.0       5.001779   \n",
       "course_students_enrolled  42000.0  99500.0  3200000.0  454424.984022   \n",
       "\n",
       "                                    LCL  \n",
       "course_rating                  4.352879  \n",
       "course_students_enrolled -273320.831384  "
      ]
     },
     "execution_count": 11,
     "metadata": {},
     "output_type": "execute_result"
    }
   ],
   "source": [
    "numeric = cleaned_df[[\"course_rating\", \"course_students_enrolled\"]]\n",
    "course_r_mean = numeric[\"course_rating\"].mean()\n",
    "course_se_mean = numeric[\"course_students_enrolled\"].mean()\n",
    "course_r_std = numeric[\"course_rating\"].std()\n",
    "course_se_std = numeric[\"course_students_enrolled\"].std()\n",
    "\n",
    "numeric_desc = numeric.describe().T\n",
    "numeric_desc[\"UCL\"] = numeric_desc[\"mean\"] + 2 * numeric_desc[\"std\"]\n",
    "numeric_desc[\"LCL\"] = numeric_desc[\"mean\"] - 2 * numeric_desc[\"std\"] # we have negative LCL due to ultra hight anomalies\n",
    "\n",
    "numeric_desc"
   ]
  },
  {
   "cell_type": "markdown",
   "metadata": {},
   "source": [
    "Outliers for numeric value columns calculated  \n",
    "with std + 2 sigma which would be 5% of LCL  \n",
    "and UCL"
   ]
  },
  {
   "cell_type": "code",
   "execution_count": 12,
   "metadata": {},
   "outputs": [
    {
     "data": {
      "text/html": [
       "<div>\n",
       "<style scoped>\n",
       "    .dataframe tbody tr th:only-of-type {\n",
       "        vertical-align: middle;\n",
       "    }\n",
       "\n",
       "    .dataframe tbody tr th {\n",
       "        vertical-align: top;\n",
       "    }\n",
       "\n",
       "    .dataframe thead th {\n",
       "        text-align: right;\n",
       "    }\n",
       "</style>\n",
       "<table border=\"1\" class=\"dataframe\">\n",
       "  <thead>\n",
       "    <tr style=\"text-align: right;\">\n",
       "      <th></th>\n",
       "      <th>course_title</th>\n",
       "      <th>course_organization</th>\n",
       "      <th>course_certificate_type</th>\n",
       "      <th>course_rating</th>\n",
       "      <th>course_difficulty</th>\n",
       "      <th>course_students_enrolled</th>\n",
       "    </tr>\n",
       "  </thead>\n",
       "  <tbody>\n",
       "    <tr>\n",
       "      <th>0</th>\n",
       "      <td>Introduction to Data Science</td>\n",
       "      <td>IBM</td>\n",
       "      <td>SPECIALIZATION</td>\n",
       "      <td>4.6</td>\n",
       "      <td>Beginner</td>\n",
       "      <td>310000</td>\n",
       "    </tr>\n",
       "    <tr>\n",
       "      <th>1</th>\n",
       "      <td>Google IT Support</td>\n",
       "      <td>Google</td>\n",
       "      <td>PROFESSIONAL CERTIFICATE</td>\n",
       "      <td>4.8</td>\n",
       "      <td>Beginner</td>\n",
       "      <td>350000</td>\n",
       "    </tr>\n",
       "    <tr>\n",
       "      <th>2</th>\n",
       "      <td>Applied Data Science</td>\n",
       "      <td>IBM</td>\n",
       "      <td>SPECIALIZATION</td>\n",
       "      <td>4.6</td>\n",
       "      <td>Beginner</td>\n",
       "      <td>220000</td>\n",
       "    </tr>\n",
       "    <tr>\n",
       "      <th>3</th>\n",
       "      <td>Cloud Engineering with Google Cloud</td>\n",
       "      <td>Google Cloud</td>\n",
       "      <td>PROFESSIONAL CERTIFICATE</td>\n",
       "      <td>4.7</td>\n",
       "      <td>Intermediate</td>\n",
       "      <td>310000</td>\n",
       "    </tr>\n",
       "    <tr>\n",
       "      <th>4</th>\n",
       "      <td>Architecting with Google Compute Engine</td>\n",
       "      <td>Google Cloud</td>\n",
       "      <td>SPECIALIZATION</td>\n",
       "      <td>4.7</td>\n",
       "      <td>Intermediate</td>\n",
       "      <td>310000</td>\n",
       "    </tr>\n",
       "  </tbody>\n",
       "</table>\n",
       "</div>"
      ],
      "text/plain": [
       "                              course_title course_organization  \\\n",
       "0             Introduction to Data Science                 IBM   \n",
       "1                        Google IT Support              Google   \n",
       "2                     Applied Data Science                 IBM   \n",
       "3      Cloud Engineering with Google Cloud        Google Cloud   \n",
       "4  Architecting with Google Compute Engine        Google Cloud   \n",
       "\n",
       "    course_certificate_type  course_rating course_difficulty  \\\n",
       "0            SPECIALIZATION            4.6          Beginner   \n",
       "1  PROFESSIONAL CERTIFICATE            4.8          Beginner   \n",
       "2            SPECIALIZATION            4.6          Beginner   \n",
       "3  PROFESSIONAL CERTIFICATE            4.7      Intermediate   \n",
       "4            SPECIALIZATION            4.7      Intermediate   \n",
       "\n",
       "   course_students_enrolled  \n",
       "0                    310000  \n",
       "1                    350000  \n",
       "2                    220000  \n",
       "3                    310000  \n",
       "4                    310000  "
      ]
     },
     "execution_count": 12,
     "metadata": {},
     "output_type": "execute_result"
    }
   ],
   "source": [
    "prep_df = cleaned_df[\n",
    "    (cleaned_df[\"course_rating\"] > numeric_desc[\"LCL\"][\"course_rating\"])\n",
    "    & (cleaned_df[\"course_rating\"] < numeric_desc[\"UCL\"][\"course_rating\"])\n",
    "]\n",
    "prep_df = cleaned_df[\n",
    "    (\n",
    "        cleaned_df[\"course_students_enrolled\"]\n",
    "        > numeric_desc[\"LCL\"][\"course_students_enrolled\"]\n",
    "    )\n",
    "    & (\n",
    "        cleaned_df[\"course_students_enrolled\"]\n",
    "        < numeric_desc[\"UCL\"][\"course_students_enrolled\"]\n",
    "    )\n",
    "].reset_index(drop=True)\n",
    "prep_df.head(5)"
   ]
  },
  {
   "cell_type": "markdown",
   "metadata": {},
   "source": [
    "New dataframe was constructed with offcasted 5% of  \n",
    "data (outliers)"
   ]
  },
  {
   "cell_type": "code",
   "execution_count": 13,
   "metadata": {},
   "outputs": [
    {
     "data": {
      "text/html": [
       "<div>\n",
       "<style scoped>\n",
       "    .dataframe tbody tr th:only-of-type {\n",
       "        vertical-align: middle;\n",
       "    }\n",
       "\n",
       "    .dataframe tbody tr th {\n",
       "        vertical-align: top;\n",
       "    }\n",
       "\n",
       "    .dataframe thead th {\n",
       "        text-align: right;\n",
       "    }\n",
       "</style>\n",
       "<table border=\"1\" class=\"dataframe\">\n",
       "  <thead>\n",
       "    <tr style=\"text-align: right;\">\n",
       "      <th></th>\n",
       "      <th>course_title</th>\n",
       "      <th>course_organization</th>\n",
       "      <th>course_certificate_type</th>\n",
       "      <th>course_rating</th>\n",
       "      <th>course_difficulty</th>\n",
       "      <th>course_students_enrolled</th>\n",
       "    </tr>\n",
       "  </thead>\n",
       "  <tbody>\n",
       "    <tr>\n",
       "      <th>0</th>\n",
       "      <td>IBM Data Science</td>\n",
       "      <td>IBM</td>\n",
       "      <td>PROFESSIONAL CERTIFICATE</td>\n",
       "      <td>4.6</td>\n",
       "      <td>Beginner</td>\n",
       "      <td>480000</td>\n",
       "    </tr>\n",
       "    <tr>\n",
       "      <th>2</th>\n",
       "      <td>The Science of Well-Being</td>\n",
       "      <td>Yale University</td>\n",
       "      <td>COURSE</td>\n",
       "      <td>4.9</td>\n",
       "      <td>Mixed</td>\n",
       "      <td>2500000</td>\n",
       "    </tr>\n",
       "    <tr>\n",
       "      <th>3</th>\n",
       "      <td>Python for Everybody</td>\n",
       "      <td>University of Michigan</td>\n",
       "      <td>SPECIALIZATION</td>\n",
       "      <td>4.8</td>\n",
       "      <td>Beginner</td>\n",
       "      <td>1500000</td>\n",
       "    </tr>\n",
       "    <tr>\n",
       "      <th>5</th>\n",
       "      <td>Deep Learning</td>\n",
       "      <td>deeplearning.ai</td>\n",
       "      <td>SPECIALIZATION</td>\n",
       "      <td>4.8</td>\n",
       "      <td>Intermediate</td>\n",
       "      <td>690000</td>\n",
       "    </tr>\n",
       "  </tbody>\n",
       "</table>\n",
       "</div>"
      ],
      "text/plain": [
       "                course_title     course_organization  \\\n",
       "0           IBM Data Science                     IBM   \n",
       "2  The Science of Well-Being         Yale University   \n",
       "3       Python for Everybody  University of Michigan   \n",
       "5              Deep Learning         deeplearning.ai   \n",
       "\n",
       "    course_certificate_type  course_rating course_difficulty  \\\n",
       "0  PROFESSIONAL CERTIFICATE            4.6          Beginner   \n",
       "2                    COURSE            4.9             Mixed   \n",
       "3            SPECIALIZATION            4.8          Beginner   \n",
       "5            SPECIALIZATION            4.8      Intermediate   \n",
       "\n",
       "   course_students_enrolled  \n",
       "0                    480000  \n",
       "2                   2500000  \n",
       "3                   1500000  \n",
       "5                    690000  "
      ]
     },
     "execution_count": 13,
     "metadata": {},
     "output_type": "execute_result"
    }
   ],
   "source": [
    "outliers_df = cleaned_df[~cleaned_df[\"course_title\"].isin(prep_df[\"course_title\"])]\n",
    "outliers_df.head(4)"
   ]
  },
  {
   "cell_type": "markdown",
   "metadata": {},
   "source": [
    "Dataframe for outliers was constructed as well  \n",
    "for future analysis"
   ]
  },
  {
   "cell_type": "code",
   "execution_count": 14,
   "metadata": {},
   "outputs": [
    {
     "data": {
      "image/png": "[encoded data removed]",
      "text/plain": [
       "<Figure size 800x400 with 2 Axes>"
      ]
     },
     "metadata": {},
     "output_type": "display_data"
    }
   ],
   "source": [
    "fig, ax = plt.subplots(1, 2, figsize=(8, 4))\n",
    "\n",
    "sns.boxplot(\n",
    "    numeric[\"course_students_enrolled\"],\n",
    "    ax=ax[0],\n",
    "    showfliers=True,\n",
    "    flierprops=dict(markerfacecolor=\"red\", marker=\"o\"),\n",
    ")\n",
    "ax[0].set_ylabel(\"Enrolled students per course\", fontweight=\"bold\", fontsize=10)\n",
    "sns.boxplot(\n",
    "    numeric[\"course_rating\"],\n",
    "    ax=ax[1],\n",
    "    showfliers=True,\n",
    "    flierprops=dict(markerfacecolor=\"red\", marker=\"o\"),\n",
    ")\n",
    "ax[1].set_ylabel(\"Course rating\", fontweight=\"bold\", fontsize=10)\n",
    "plt.tight_layout()\n",
    "fig.suptitle(\n",
    "    \"Outliers of students enrolled and course ratings\",\n",
    "    fontsize=14,\n",
    "    fontweight=\"bold\",\n",
    "    ha=\"center\",\n",
    ")\n",
    "plt.show()"
   ]
  },
  {
   "cell_type": "markdown",
   "metadata": {},
   "source": [
    "For better view of outliers, box plots were plotted  \n",
    "with outliers marked as red dots. Plots shows data  \n",
    "distribution as well."
   ]
  },
  {
   "cell_type": "markdown",
   "metadata": {},
   "source": [
    "## Exploratory Data Analysis (EDA)"
   ]
  },
  {
   "cell_type": "code",
   "execution_count": 15,
   "metadata": {},
   "outputs": [
    {
     "name": "stdout",
     "output_type": "stream",
     "text": [
      "Dataset consists of 6 features and 891 observations\n",
      "\n",
      "These are categorical features: course_title, course_organization, course_certificate_type, course_difficulty\n",
      "\n",
      "These are numerical features: course_rating, course_students_enrolled\n",
      "\n",
      "There are different courses: 888\n",
      "\n",
      "There are different course organizations: 154\n",
      "\n",
      "There are different certificate types: 3\n",
      "\n",
      "There are different course difficulties: 4\n",
      "\n",
      "The most popular course organization is Stanford University with 3200000 students\n",
      "\n",
      "The least popular course organization is Universidad Austral with 1500 students\n",
      "\n"
     ]
    }
   ],
   "source": [
    "shp = cleaned_df.shape\n",
    "d_types = cleaned_df.dtypes\n",
    "catf_list = list(cleaned_df.select_dtypes(include=[\"object\"]).columns)\n",
    "numf_list = list(cleaned_df.select_dtypes(include=np.number).columns)\n",
    "course_uniq = cleaned_df[\"course_title\"].unique()\n",
    "organiz_uniq = cleaned_df[\"course_organization\"].unique()\n",
    "certifs_uniq = cleaned_df[\"course_certificate_type\"].unique()\n",
    "diffic_uniq = cleaned_df[\"course_difficulty\"].unique()\n",
    "max_stud = cleaned_df.loc[cleaned_df[\"course_students_enrolled\"].idxmax()]\n",
    "min_stud = cleaned_df.loc[cleaned_df[\"course_students_enrolled\"].idxmin()]\n",
    "\n",
    "print(f\"Dataset consists of {shp[1]} features and {shp[0]} observations\\n\")\n",
    "print(f\"These are categorical features: {', '.join(catf_list)}\\n\")\n",
    "print(f\"These are numerical features: {', '.join(numf_list)}\\n\")\n",
    "print(f\"There are different courses: {len(course_uniq)}\\n\")\n",
    "print(f\"There are different course organizations: {len(organiz_uniq)}\\n\")\n",
    "print(f\"There are different certificate types: {len(certifs_uniq)}\\n\")\n",
    "print(f\"There are different course difficulties: {len(diffic_uniq)}\\n\")\n",
    "print(\n",
    "    f\"The most popular course organization is {max_stud['course_organization']} with {max_stud['course_students_enrolled']} students\\n\"\n",
    ")\n",
    "print(\n",
    "    f\"The least popular course organization is {min_stud['course_organization']} with {min_stud['course_students_enrolled']} students\\n\"\n",
    ")\n"
   ]
  },
  {
   "cell_type": "markdown",
   "metadata": {},
   "source": [
    "To check how many organizations are with more than  \n",
    "one course in it, a code was used in a cell below"
   ]
  },
  {
   "cell_type": "code",
   "execution_count": 96,
   "metadata": {},
   "outputs": [
    {
     "name": "stdout",
     "output_type": "stream",
     "text": [
      "There are 105 organizations with more than one course\n",
      "\n",
      " Most courses having organization: University of Pennsylvania with 59 courses\n",
      " Second most: University of Michigan with 41 courses\n",
      " Third most: Google Cloud with 34 courses\n",
      "\n"
     ]
    }
   ],
   "source": [
    "orgs = cleaned_df.groupby(\"course_organization\").size().reset_index(name=\"different_courses\")\n",
    "orgs = orgs[orgs[\"different_courses\"] > 1].reset_index(drop=True)\n",
    "sor = orgs.sort_values(by=\"different_courses\", ascending=False)\n",
    "\n",
    "print(f\"There are {len(orgs)} organizations with more than one course\\n\")\n",
    "print(f\" Most courses having organization: {sor.iloc[0]['course_organization']} with {sor.iloc[0]['different_courses']} courses\\n\",\n",
    "      f\"Second most: {sor.iloc[1]['course_organization']} with {sor.iloc[1]['different_courses']} courses\\n\",\n",
    "      f\"Third most: {sor.iloc[2]['course_organization']} with {sor.iloc[2]['different_courses']} courses\\n\")"
   ]
  },
  {
   "cell_type": "markdown",
   "metadata": {},
   "source": [
    "There was idea to check correlation between numeric values  \n",
    "but because only two columns were numeric, two more were converted  \n",
    "to numeric, giving each of these a number between 1 and 4 depending on  \n",
    "quality it has"
   ]
  },
  {
   "cell_type": "code",
   "execution_count": 17,
   "metadata": {},
   "outputs": [],
   "source": [
    "certificates = cleaned_df[\"course_certificate_type\"].unique()\n",
    "difficulties = cleaned_df[\"course_difficulty\"].unique()\n",
    "leveled_df = cleaned_df\n",
    "leveled_df[\"certificate_type_num\"] = leveled_df[\"course_certificate_type\"].apply(\n",
    "    lambda x: (\n",
    "        1\n",
    "        if x == certificates[2]\n",
    "        else (2 if x == certificates[1] else (3 if x == certificates[0] else None))\n",
    "    )\n",
    ")\n",
    "leveled_df[\"course_difficulty_num\"] = leveled_df[\"course_difficulty\"].apply(\n",
    "    lambda x: (\n",
    "        1\n",
    "        if x == difficulties[0]\n",
    "        else (\n",
    "            2\n",
    "            if x == difficulties[2]\n",
    "            else (3 if x == difficulties[1] else (4 if x == difficulties[3] else None))\n",
    "        )\n",
    "    )\n",
    ")\n",
    "leveled_correl = leveled_df[\n",
    "    [\n",
    "        \"course_rating\",\n",
    "        \"course_students_enrolled\",\n",
    "        \"certificate_type_num\",\n",
    "        \"course_difficulty_num\",\n",
    "    ]\n",
    "].corr()"
   ]
  },
  {
   "cell_type": "markdown",
   "metadata": {},
   "source": [
    "For a better view, triangle type heatmap was plotted"
   ]
  },
  {
   "cell_type": "code",
   "execution_count": 18,
   "metadata": {},
   "outputs": [
    {
     "data": {
      "image/png": "[encoded data removed]",
      "text/plain": [
       "<Figure size 400x300 with 2 Axes>"
      ]
     },
     "metadata": {},
     "output_type": "display_data"
    }
   ],
   "source": [
    "\n",
    "mask = np.triu(np.ones_like(leveled_correl))\n",
    "\n",
    "sns.set_style(\"white\")\n",
    "plt.figure(figsize=(4, 3))\n",
    "sns.heatmap(leveled_correl, annot=True, linewidths=0.1, cmap=\"YlGnBu\", vmin=-1, vmax=1, mask=mask)\n",
    "plt.xticks(rotation=45, ha=\"right\", fontsize=9)\n",
    "plt.yticks(fontsize=9)\n",
    "plt.title(\"Triangle heatmap for number type features\", fontweight=\"bold\", fontsize=16, loc=\"right\")\n",
    "plt.show()"
   ]
  },
  {
   "cell_type": "markdown",
   "metadata": {},
   "source": [
    "Despite the fact more numeric type columns were added, no significant  \n",
    "correlation between each of those were observed"
   ]
  },
  {
   "cell_type": "code",
   "execution_count": 19,
   "metadata": {},
   "outputs": [
    {
     "data": {
      "text/html": [
       "<div>\n",
       "<style scoped>\n",
       "    .dataframe tbody tr th:only-of-type {\n",
       "        vertical-align: middle;\n",
       "    }\n",
       "\n",
       "    .dataframe tbody tr th {\n",
       "        vertical-align: top;\n",
       "    }\n",
       "\n",
       "    .dataframe thead th {\n",
       "        text-align: right;\n",
       "    }\n",
       "</style>\n",
       "<table border=\"1\" class=\"dataframe\">\n",
       "  <thead>\n",
       "    <tr style=\"text-align: right;\">\n",
       "      <th></th>\n",
       "      <th>course_title</th>\n",
       "      <th>course_organization</th>\n",
       "      <th>course_certificate_type</th>\n",
       "      <th>course_rating</th>\n",
       "      <th>course_difficulty</th>\n",
       "      <th>course_students_enrolled</th>\n",
       "      <th>certificate_type_num</th>\n",
       "      <th>course_difficulty_num</th>\n",
       "    </tr>\n",
       "  </thead>\n",
       "  <tbody>\n",
       "    <tr>\n",
       "      <th>0</th>\n",
       "      <td>IBM Data Science</td>\n",
       "      <td>IBM</td>\n",
       "      <td>PROFESSIONAL CERTIFICATE</td>\n",
       "      <td>4.6</td>\n",
       "      <td>Beginner</td>\n",
       "      <td>480000</td>\n",
       "      <td>3</td>\n",
       "      <td>1</td>\n",
       "    </tr>\n",
       "    <tr>\n",
       "      <th>1</th>\n",
       "      <td>Introduction to Data Science</td>\n",
       "      <td>IBM</td>\n",
       "      <td>SPECIALIZATION</td>\n",
       "      <td>4.6</td>\n",
       "      <td>Beginner</td>\n",
       "      <td>310000</td>\n",
       "      <td>2</td>\n",
       "      <td>1</td>\n",
       "    </tr>\n",
       "    <tr>\n",
       "      <th>2</th>\n",
       "      <td>The Science of Well-Being</td>\n",
       "      <td>Yale University</td>\n",
       "      <td>COURSE</td>\n",
       "      <td>4.9</td>\n",
       "      <td>Mixed</td>\n",
       "      <td>2500000</td>\n",
       "      <td>1</td>\n",
       "      <td>3</td>\n",
       "    </tr>\n",
       "  </tbody>\n",
       "</table>\n",
       "</div>"
      ],
      "text/plain": [
       "                   course_title course_organization   course_certificate_type  \\\n",
       "0              IBM Data Science                 IBM  PROFESSIONAL CERTIFICATE   \n",
       "1  Introduction to Data Science                 IBM            SPECIALIZATION   \n",
       "2     The Science of Well-Being     Yale University                    COURSE   \n",
       "\n",
       "   course_rating course_difficulty  course_students_enrolled  \\\n",
       "0            4.6          Beginner                    480000   \n",
       "1            4.6          Beginner                    310000   \n",
       "2            4.9             Mixed                   2500000   \n",
       "\n",
       "   certificate_type_num  course_difficulty_num  \n",
       "0                     3                      1  \n",
       "1                     2                      1  \n",
       "2                     1                      3  "
      ]
     },
     "execution_count": 19,
     "metadata": {},
     "output_type": "execute_result"
    }
   ],
   "source": [
    "cleaned_df.head(3)"
   ]
  },
  {
   "cell_type": "markdown",
   "metadata": {},
   "source": [
    "### Course difficulty section"
   ]
  },
  {
   "cell_type": "markdown",
   "metadata": {},
   "source": [
    "Percentage of different difficulty courses available  \n",
    "were calculated and dataframe created"
   ]
  },
  {
   "cell_type": "code",
   "execution_count": 48,
   "metadata": {},
   "outputs": [
    {
     "data": {
      "text/html": [
       "<div>\n",
       "<style scoped>\n",
       "    .dataframe tbody tr th:only-of-type {\n",
       "        vertical-align: middle;\n",
       "    }\n",
       "\n",
       "    .dataframe tbody tr th {\n",
       "        vertical-align: top;\n",
       "    }\n",
       "\n",
       "    .dataframe thead th {\n",
       "        text-align: right;\n",
       "    }\n",
       "</style>\n",
       "<table border=\"1\" class=\"dataframe\">\n",
       "  <thead>\n",
       "    <tr style=\"text-align: right;\">\n",
       "      <th></th>\n",
       "      <th>course_title</th>\n",
       "      <th>percentage</th>\n",
       "    </tr>\n",
       "    <tr>\n",
       "      <th>course_difficulty</th>\n",
       "      <th></th>\n",
       "      <th></th>\n",
       "    </tr>\n",
       "  </thead>\n",
       "  <tbody>\n",
       "    <tr>\n",
       "      <th>Advanced</th>\n",
       "      <td>19</td>\n",
       "      <td>2.18</td>\n",
       "    </tr>\n",
       "    <tr>\n",
       "      <th>Beginner</th>\n",
       "      <td>477</td>\n",
       "      <td>54.76</td>\n",
       "    </tr>\n",
       "    <tr>\n",
       "      <th>Intermediate</th>\n",
       "      <td>194</td>\n",
       "      <td>22.27</td>\n",
       "    </tr>\n",
       "    <tr>\n",
       "      <th>Mixed</th>\n",
       "      <td>182</td>\n",
       "      <td>20.90</td>\n",
       "    </tr>\n",
       "  </tbody>\n",
       "</table>\n",
       "</div>"
      ],
      "text/plain": [
       "                   course_title  percentage\n",
       "course_difficulty                          \n",
       "Advanced                     19        2.18\n",
       "Beginner                    477       54.76\n",
       "Intermediate                194       22.27\n",
       "Mixed                       182       20.90"
      ]
     },
     "execution_count": 48,
     "metadata": {},
     "output_type": "execute_result"
    }
   ],
   "source": [
    "choose_by_difficulty = prep_df[[\"course_title\", \"course_difficulty\"]].groupby(\"course_difficulty\").count()\n",
    "courses = prep_df.index.max()\n",
    "choose_by_difficulty[\"percentage\"] = choose_by_difficulty[\"course_title\"].apply(lambda x:round(x * 100 / courses, 2))\n",
    "\n",
    "choose_by_difficulty"
   ]
  },
  {
   "cell_type": "markdown",
   "metadata": {},
   "source": [
    "To check course difficulty on by course rating and enrolled students,  \n",
    "two subplots were created"
   ]
  },
  {
   "cell_type": "code",
   "execution_count": 49,
   "metadata": {},
   "outputs": [
    {
     "data": {
      "image/png": "[encoded data removed]",
      "text/plain": [
       "<Figure size 1500x400 with 3 Axes>"
      ]
     },
     "metadata": {},
     "output_type": "display_data"
    }
   ],
   "source": [
    "sns.set_style(\"darkgrid\")\n",
    "sns.set_context(\"notebook\")\n",
    "fig, ax = plt.subplots(1, 3, figsize=(15, 4))\n",
    "\n",
    "sns.barplot(prep_df, x=\"course_difficulty\", y=\"course_rating\", ax=ax[0])\n",
    "ax[0].set_ylim(4.4, 4.9)\n",
    "ax[0].set_xlabel(\"Course difficulty\", fontweight=\"bold\")\n",
    "ax[0].set_ylabel(\"Course rating\", fontweight=\"bold\")\n",
    "\n",
    "sns.barplot(prep_df, x=\"course_difficulty\", y=\"course_students_enrolled\", ax=ax[1], color=\"orange\")\n",
    "ax[1].set_xlabel(\"Course difficulty\", fontweight=\"bold\")\n",
    "ax[1].set_ylabel(\"Enrolled students per course\", fontweight=\"bold\")\n",
    "\n",
    "sns.barplot(data=choose_by_difficulty, x=choose_by_difficulty.index, y=\"percentage\", ax=ax[2], color=\"green\")\n",
    "ax[2].set_xlabel(\"Course difficulty\", fontweight=\"bold\")\n",
    "ax[2].set_ylabel(\"Courses distribution per difficulty\", fontweight=\"bold\")\n",
    "\n",
    "plt.tight_layout()\n",
    "fig.suptitle(\"Course rating and students enrolled mean in different difficulty courses\",\n",
    "             size=14,\n",
    "             fontweight=\"bold\",\n",
    "             ha=\"center\")\n",
    "\n",
    "plt.show()"
   ]
  },
  {
   "cell_type": "markdown",
   "metadata": {},
   "source": [
    "From both plots it can be seen that mixed difficulty courses were  \n",
    "rated highest average and these courses had most enrolled students  \n",
    "on average.  \n",
    "Significantly lower courses average ratings were on advanced course  \n",
    "difficulty.  \n",
    "From the last plot can be seen than most more than half of the courses  \n",
    "are for Beginner level and the least amount of courses are for Advanced.  \n",
    "Intermediate and Mixed level courses shares similar 20 percents each of   \n",
    "all courses."
   ]
  },
  {
   "cell_type": "markdown",
   "metadata": {},
   "source": [
    "Histogram plot for enrolled students by course difficulty  \n",
    "was created"
   ]
  },
  {
   "cell_type": "code",
   "execution_count": 21,
   "metadata": {},
   "outputs": [
    {
     "data": {
      "image/png": "[encoded data removed]",
      "text/plain": [
       "<Figure size 600x400 with 1 Axes>"
      ]
     },
     "metadata": {},
     "output_type": "display_data"
    }
   ],
   "source": [
    "plt.figure(figsize=(6, 4))\n",
    "sns.histplot(\n",
    "    data=prep_df,\n",
    "    x=\"course_students_enrolled\",\n",
    "    bins=50,\n",
    "    kde=True,\n",
    "    hue=\"course_difficulty\"\n",
    ")\n",
    "plt.xlabel(\"Enrolled students per course\", fontweight=\"bold\")\n",
    "plt.ylabel(\"Count\", fontweight=\"bold\")\n",
    "plt.title(\"Distribution size of enrolled students by course difficulty\", fontweight=\"bold\", fontsize=14)\n",
    "plt.yticks(fontsize=10)\n",
    "plt.xticks(fontsize=10)\n",
    "plt.xlim(0)\n",
    "plt.show()"
   ]
  },
  {
   "cell_type": "markdown",
   "metadata": {},
   "source": [
    "It can be seen, that the highest amount of students enrolls to  \n",
    "begginer courses, then follows intermediate and mixed and the least  \n",
    "amount of students studies at advanced level courses.  \n",
    "KDE lines shows as well, that to each course difficulty studies,  \n",
    "enrolled students amount mostly varies 30k - 80k. Better view could be  \n",
    "seen on the plot below this cell"
   ]
  },
  {
   "cell_type": "code",
   "execution_count": 22,
   "metadata": {},
   "outputs": [
    {
     "data": {
      "image/png": "[encoded data removed]",
      "text/plain": [
       "<Figure size 640x480 with 1 Axes>"
      ]
     },
     "metadata": {},
     "output_type": "display_data"
    }
   ],
   "source": [
    "sns.kdeplot(data=prep_df, x=\"course_students_enrolled\", hue=\"course_difficulty\", fill=True)\n",
    "plt.xlabel(\"Enrolled students per course\", fontweight=\"bold\")\n",
    "plt.ylabel(\"Count\", fontweight=\"bold\")\n",
    "plt.title(\"Distribution size of enrolled students by course difficulty\", fontweight=\"bold\", fontsize=14)\n",
    "plt.yticks(fontsize=10)\n",
    "plt.xticks(fontsize=10)\n",
    "plt.show()"
   ]
  },
  {
   "cell_type": "markdown",
   "metadata": {},
   "source": [
    "### Course certificate type section"
   ]
  },
  {
   "cell_type": "code",
   "execution_count": 23,
   "metadata": {},
   "outputs": [
    {
     "data": {
      "text/html": [
       "<div>\n",
       "<style scoped>\n",
       "    .dataframe tbody tr th:only-of-type {\n",
       "        vertical-align: middle;\n",
       "    }\n",
       "\n",
       "    .dataframe tbody tr th {\n",
       "        vertical-align: top;\n",
       "    }\n",
       "\n",
       "    .dataframe thead th {\n",
       "        text-align: right;\n",
       "    }\n",
       "</style>\n",
       "<table border=\"1\" class=\"dataframe\">\n",
       "  <thead>\n",
       "    <tr style=\"text-align: right;\">\n",
       "      <th></th>\n",
       "      <th>course_title</th>\n",
       "      <th>course_organization</th>\n",
       "      <th>course_certificate_type</th>\n",
       "      <th>course_rating</th>\n",
       "      <th>course_difficulty</th>\n",
       "      <th>course_students_enrolled</th>\n",
       "    </tr>\n",
       "  </thead>\n",
       "  <tbody>\n",
       "    <tr>\n",
       "      <th>0</th>\n",
       "      <td>Introduction to Data Science</td>\n",
       "      <td>IBM</td>\n",
       "      <td>SPECIALIZATION</td>\n",
       "      <td>4.6</td>\n",
       "      <td>Beginner</td>\n",
       "      <td>310000</td>\n",
       "    </tr>\n",
       "    <tr>\n",
       "      <th>1</th>\n",
       "      <td>Google IT Support</td>\n",
       "      <td>Google</td>\n",
       "      <td>PROFESSIONAL CERTIFICATE</td>\n",
       "      <td>4.8</td>\n",
       "      <td>Beginner</td>\n",
       "      <td>350000</td>\n",
       "    </tr>\n",
       "    <tr>\n",
       "      <th>2</th>\n",
       "      <td>Applied Data Science</td>\n",
       "      <td>IBM</td>\n",
       "      <td>SPECIALIZATION</td>\n",
       "      <td>4.6</td>\n",
       "      <td>Beginner</td>\n",
       "      <td>220000</td>\n",
       "    </tr>\n",
       "  </tbody>\n",
       "</table>\n",
       "</div>"
      ],
      "text/plain": [
       "                   course_title course_organization   course_certificate_type  \\\n",
       "0  Introduction to Data Science                 IBM            SPECIALIZATION   \n",
       "1             Google IT Support              Google  PROFESSIONAL CERTIFICATE   \n",
       "2          Applied Data Science                 IBM            SPECIALIZATION   \n",
       "\n",
       "   course_rating course_difficulty  course_students_enrolled  \n",
       "0            4.6          Beginner                    310000  \n",
       "1            4.8          Beginner                    350000  \n",
       "2            4.6          Beginner                    220000  "
      ]
     },
     "execution_count": 23,
     "metadata": {},
     "output_type": "execute_result"
    }
   ],
   "source": [
    "prep_df.head(3)"
   ]
  },
  {
   "cell_type": "code",
   "execution_count": 55,
   "metadata": {},
   "outputs": [
    {
     "data": {
      "text/html": [
       "<div>\n",
       "<style scoped>\n",
       "    .dataframe tbody tr th:only-of-type {\n",
       "        vertical-align: middle;\n",
       "    }\n",
       "\n",
       "    .dataframe tbody tr th {\n",
       "        vertical-align: top;\n",
       "    }\n",
       "\n",
       "    .dataframe thead th {\n",
       "        text-align: right;\n",
       "    }\n",
       "</style>\n",
       "<table border=\"1\" class=\"dataframe\">\n",
       "  <thead>\n",
       "    <tr style=\"text-align: right;\">\n",
       "      <th></th>\n",
       "      <th>course_title</th>\n",
       "      <th>percentage</th>\n",
       "    </tr>\n",
       "    <tr>\n",
       "      <th>course_certificate_type</th>\n",
       "      <th></th>\n",
       "      <th></th>\n",
       "    </tr>\n",
       "  </thead>\n",
       "  <tbody>\n",
       "    <tr>\n",
       "      <th>COURSE</th>\n",
       "      <td>574</td>\n",
       "      <td>65.90</td>\n",
       "    </tr>\n",
       "    <tr>\n",
       "      <th>PROFESSIONAL CERTIFICATE</th>\n",
       "      <td>11</td>\n",
       "      <td>1.26</td>\n",
       "    </tr>\n",
       "    <tr>\n",
       "      <th>SPECIALIZATION</th>\n",
       "      <td>287</td>\n",
       "      <td>32.95</td>\n",
       "    </tr>\n",
       "  </tbody>\n",
       "</table>\n",
       "</div>"
      ],
      "text/plain": [
       "                          course_title  percentage\n",
       "course_certificate_type                           \n",
       "COURSE                             574       65.90\n",
       "PROFESSIONAL CERTIFICATE            11        1.26\n",
       "SPECIALIZATION                     287       32.95"
      ]
     },
     "execution_count": 55,
     "metadata": {},
     "output_type": "execute_result"
    }
   ],
   "source": [
    "choose_by_type = prep_df[[\"course_title\", \"course_certificate_type\"]].groupby(\"course_certificate_type\").count()\n",
    "courses = prep_df.index.max()\n",
    "choose_by_type[\"percentage\"] = choose_by_type[\"course_title\"].apply(lambda x:round(x * 100 / courses, 2))\n",
    "\n",
    "choose_by_type"
   ]
  },
  {
   "cell_type": "code",
   "execution_count": 61,
   "metadata": {},
   "outputs": [
    {
     "data": {
      "image/png": "[encoded data removed]",
      "text/plain": [
       "<Figure size 1000x400 with 2 Axes>"
      ]
     },
     "metadata": {},
     "output_type": "display_data"
    }
   ],
   "source": [
    "sns.set_style(\"darkgrid\")\n",
    "sns.set_context(\"notebook\")\n",
    "\n",
    "fig, ax = plt.subplots(1, 2, figsize=(10, 4))\n",
    "\n",
    "sns.barplot(prep_df, x=\"course_certificate_type\", y=\"course_students_enrolled\", ax=ax[0], color=\"orange\")\n",
    "ax[0].set_xlabel(\"Course certificate type\", fontweight=\"bold\")\n",
    "ax[0].set_ylabel(\"Enrolled students per course\", fontweight=\"bold\")\n",
    "ax[0].set_xticks(ax[0].get_xticks())\n",
    "ax[0].set_xticklabels(ax[0].get_xticklabels(), fontsize=8)\n",
    "\n",
    "sns.barplot(choose_by_type, x=choose_by_type.index, y=\"percentage\", ax=ax[1], color=\"green\")\n",
    "ax[1].set_xlabel(\"Course certificate type\", fontweight=\"bold\")\n",
    "ax[1].set_ylabel(\"Course distribution per certificate type\", fontweight=\"bold\")\n",
    "ax[1].set_xticks(ax[1].get_xticks())\n",
    "ax[1].set_xticklabels(ax[1].get_xticklabels(), fontsize=8)\n",
    "\n",
    "plt.tight_layout()\n",
    "fig.suptitle(\"Course certificate type on various categorial features\",\n",
    "             size=14,\n",
    "             fontweight=\"bold\",\n",
    "             ha=\"center\",\n",
    "             va=\"bottom\")\n",
    "\n",
    "plt.show()\n"
   ]
  }
 ],
 "metadata": {
  "kernelspec": {
   "display_name": "Python 3",
   "language": "python",
   "name": "python3"
  },
  "language_info": {
   "codemirror_mode": {
    "name": "ipython",
    "version": 3
   },
   "file_extension": ".py",
   "mimetype": "text/x-python",
   "name": "python",
   "nbconvert_exporter": "python",
   "pygments_lexer": "ipython3",
   "version": "3.11.4"
  }
 },
 "nbformat": 4,
 "nbformat_minor": 2
}
