{
 "cells": [
  {
   "cell_type": "markdown",
   "metadata": {},
   "source": [
    "# Coursera data analysis project"
   ]
  },
  {
   "cell_type": "markdown",
   "metadata": {},
   "source": [
    "## Dataset import"
   ]
  },
  {
   "cell_type": "markdown",
   "metadata": {},
   "source": [
    "Cell is used for reading given dataset and check first view of raw dataframe"
   ]
  },
  {
   "cell_type": "code",
   "execution_count": null,
   "metadata": {},
   "outputs": [],
   "source": [
    "import pandas as pd\n",
    "import numpy as np\n",
    "\n",
    "file = r'D:\\IT_projects\\Turing_Colledge\\Modul1\\Sprint3\\project\\coursea_data.csv'\n",
    "raw_df = pd.read_csv(file, index_col=0)\n",
    "raw_df.head(10)"
   ]
  },
  {
   "cell_type": "markdown",
   "metadata": {},
   "source": [
    "## Data inspection"
   ]
  },
  {
   "cell_type": "markdown",
   "metadata": {},
   "source": [
    "Check last 10 rows of the given data for any faults/malfunctions  \n",
    "First 10 rows have already been checked in first cell"
   ]
  },
  {
   "cell_type": "code",
   "execution_count": null,
   "metadata": {},
   "outputs": [],
   "source": [
    "raw_df.tail(10)"
   ]
  },
  {
   "cell_type": "markdown",
   "metadata": {},
   "source": [
    "It can be seen that not english type letters are used  \n",
    "at \"course_title\" along with english type letters."
   ]
  },
  {
   "cell_type": "code",
   "execution_count": null,
   "metadata": {},
   "outputs": [],
   "source": [
    "raw_df.info()"
   ]
  },
  {
   "cell_type": "markdown",
   "metadata": {},
   "source": [
    "Some information/observation can be extracted at this moment:  \n",
    "- In total there are 891 observations and 6 features;  \n",
    "- In coure_title there are more than one language text;  \n",
    "- Dataframe is sorted by course_title ascending;  \n",
    "- Last column should be converted to INT;  \n",
    "- At the beggining of dataset import a prediction has been taken that first  \n",
    "column should be index. It needs to be proved."
   ]
  },
  {
   "cell_type": "markdown",
   "metadata": {},
   "source": [
    "Prediction of index numbers at the cell bellow"
   ]
  },
  {
   "cell_type": "code",
   "execution_count": null,
   "metadata": {},
   "outputs": [],
   "source": [
    "print(raw_df.index)\n",
    "print(f'Is there any duplicates?: {raw_df.index.duplicated().any()}')\n",
    "print(f'Min number: {min(raw_df.index)}\\nMax number: {max(raw_df.index)}')"
   ]
  },
  {
   "cell_type": "markdown",
   "metadata": {},
   "source": [
    "Results above proves that first columns numbers are  \n",
    "indexes because there are 891 numbers with no duplicates  \n",
    "and it starts from 0 to 890"
   ]
  },
  {
   "cell_type": "markdown",
   "metadata": {},
   "source": [
    "## Data Cleaning"
   ]
  },
  {
   "cell_type": "code",
   "execution_count": 32,
   "metadata": {},
   "outputs": [
    {
     "name": "stdout",
     "output_type": "stream",
     "text": [
      "Is there any duplicates in dataframe?: False\n",
      "False\n"
     ]
    }
   ],
   "source": [
    "raw_df.columns = raw_df.columns.str.strip()\n",
    "raw_df_duplicates = raw_df.duplicated().any()\n",
    "raw_df_nan = raw_df.isna().any().any()\n",
    "\n",
    "\n",
    "print(f'Is there any duplicates in dataframe?: {raw_df_duplicates}')\n",
    "print(f'Is there any NaN values in dataframe?: {raw_df_nan}')\n"
   ]
  }
 ],
 "metadata": {
  "kernelspec": {
   "display_name": "Python 3",
   "language": "python",
   "name": "python3"
  },
  "language_info": {
   "codemirror_mode": {
    "name": "ipython",
    "version": 3
   },
   "file_extension": ".py",
   "mimetype": "text/x-python",
   "name": "python",
   "nbconvert_exporter": "python",
   "pygments_lexer": "ipython3",
   "version": "3.11.4"
  }
 },
 "nbformat": 4,
 "nbformat_minor": 2
}
